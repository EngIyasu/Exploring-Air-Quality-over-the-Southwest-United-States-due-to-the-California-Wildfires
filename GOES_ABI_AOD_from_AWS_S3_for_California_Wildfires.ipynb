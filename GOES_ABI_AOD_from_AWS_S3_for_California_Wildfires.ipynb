{
 "cells": [
  {
   "cell_type": "markdown",
   "metadata": {},
   "source": [
    "## Exploring Air Quality over the Southwest United States due to the California Wildfires"
   ]
  },
  {
   "cell_type": "markdown",
   "metadata": {},
   "source": [
    "NOAA's GOES-16 (EAST) Advanced Baseline Imager (ABI) sensor highlights the spatial and temporal evolution of the aerosol optical depth (AOD) over the southwest United States due the California wildfires between August 15 and 25, 2020. Majority of the wildfires were caused by cloud-to-ground lightning strikes ([NASA](https://www.nasa.gov/feature/goddard/2020/nasa-s-suomi-npp-satellite-highlights-california-wildfires-at-night)).\n",
    "In this work, the first image from each hour were concatenated and converted into Graphics Interchange Format (GIF) for animation, although this senor has a temporal resoltuion of 5 minutes. Detailed explanation on the acquisition of these AOD imageries from the Amazon's S3 bucket can be accessed and cloned through this GitHub repository [NOAA-GOES-16-ABI-AOD](https://github.com/EngIyasu/NOAA-GOES-16-ABI-AOD). "
   ]
  },
  {
   "cell_type": "markdown",
   "metadata": {},
   "source": [
    "### Required libraries"
   ]
  },
  {
   "cell_type": "code",
   "execution_count": 1,
   "metadata": {},
   "outputs": [],
   "source": [
    "from netCDF4 import Dataset\n",
    "import matplotlib.pyplot as plt\n",
    "from mpl_toolkits.basemap import Basemap, cm\n",
    "import numpy as np\n",
    "import requests\n",
    "import boto3\n",
    "import datetime \n",
    "from IPython.display import Image\n",
    "from mpl_toolkits.axes_grid1 import make_axes_locatable\n",
    "import matplotlib.animation as animation\n",
    "from IPython.display import HTML, display\n",
    "\n",
    "%matplotlib inline"
   ]
  },
  {
   "cell_type": "markdown",
   "metadata": {},
   "source": [
    "### Accessing the images through the AWS CLI credentials"
   ]
  },
  {
   "cell_type": "code",
   "execution_count": 2,
   "metadata": {},
   "outputs": [],
   "source": [
    "s3_client = boto3.client('s3',\n",
    "                         aws_access_key_id = 'your_aws_access_key_id',\n",
    "                         aws_secret_access_key = 'your_aws_secret_access_key') "
   ]
  },
  {
   "cell_type": "code",
   "execution_count": 3,
   "metadata": {},
   "outputs": [],
   "source": [
    "def get_s3_keys(bucket, s3_client, prefix = ''):\n",
    "    \"\"\"\n",
    "    Generate the keys in an S3 bucket.\n",
    "\n",
    "    :param bucket: Name of the S3 bucket.\n",
    "    :param prefix: Only fetch keys that start with this prefix (optional).\n",
    "    \"\"\"\n",
    "    \n",
    "    kwargs = {'Bucket': bucket}\n",
    "\n",
    "    if isinstance(prefix, str):\n",
    "        kwargs['Prefix'] = prefix\n",
    "\n",
    "    while True:\n",
    "        resp = s3_client.list_objects_v2(**kwargs)\n",
    "        for obj in resp['Contents']:\n",
    "            key = obj['Key']\n",
    "            if key.startswith(prefix):\n",
    "                yield key\n",
    "\n",
    "        try:\n",
    "            kwargs['ContinuationToken'] = resp['NextContinuationToken']\n",
    "        except KeyError:\n",
    "            break"
   ]
  },
  {
   "cell_type": "markdown",
   "metadata": {},
   "source": [
    "### Mapping the images"
   ]
  },
  {
   "cell_type": "code",
   "execution_count": 4,
   "metadata": {},
   "outputs": [
    {
     "name": "stderr",
     "output_type": "stream",
     "text": [
      "/Users/iyasueibed/anaconda3/envs/geo_spatial_env/lib/python3.7/site-packages/ipykernel_launcher.py:64: RuntimeWarning: invalid value encountered in sqrt\n",
      "/Users/iyasueibed/anaconda3/envs/geo_spatial_env/lib/python3.7/site-packages/ipykernel_launcher.py:71: RuntimeWarning: invalid value encountered in sqrt\n"
     ]
    }
   ],
   "source": [
    "bucket_name = 'noaa-goes16'\n",
    "product_name = 'ABI-L2-AODC' #Advanced Baseline Imager Level 2 Aerosol Optical Depth CONUS\n",
    "year = 2020\n",
    "\n",
    "# Hours list\n",
    "list_1 = [0,1]\n",
    "list_2 = list(range(15,24))\n",
    "com_list = list_1 + list_2\n",
    "\n",
    "for day_of_year in range(228,239): \n",
    "    for hour in com_list:\n",
    "        \n",
    "        keys = get_s3_keys(bucket_name,\n",
    "                   s3_client,\n",
    "                   prefix = f'{product_name}/{year}/{day_of_year:03.0f}/{hour:02.0f}/OR_{product_name}')\n",
    "        \n",
    "        keys_combined = []\n",
    "        for i in keys:\n",
    "            keys_combined.append(i)\n",
    "                            \n",
    "        fig, ax = plt.subplots(1,1, figsize=(19,20))#(width,height)\n",
    "        #fig.subplots_adjust(hspace=0, wspace=0.1)    \n",
    "        single_file = keys_combined[0]\n",
    "        file_name = single_file.split('/')[-1].split('.')[0]\n",
    "    \n",
    "        ## Search for the Scan start in the file name\n",
    "        start = (file_name[file_name.find(\"_s\")+2:file_name.find(\"_e\")])\n",
    "    \n",
    "        ## Converting from julian day to dd-mm-yyyy\n",
    "        year = int(start[0:4])\n",
    "        dayjulian = int(start[4:7]) - 1 # Subtract 1 because the year starts at \"0\"\n",
    "        dayconventional = datetime.datetime(year,1,1) + datetime.timedelta(dayjulian) # Convert from julian to conventional\n",
    "        date = dayconventional.strftime('%d-%b-%Y')  # Format the date according to the strftime directives\n",
    "        time = start[7:9] + \":\" + start[9:11] + \":\" + start[11:13] + \" UTC\" # Time of the Start of the Scan\n",
    "        \n",
    "        ## Response from AWS S3\n",
    "        resp = requests.get(f'https://{bucket_name}.s3.amazonaws.com/{single_file}')\n",
    "    \n",
    "        ## Open the file using the NetCDF4 library\n",
    "        nc = Dataset(file_name, memory = resp.content)\n",
    "    \n",
    "        ## Parameters required to naviage data points on ABI fixed grid\n",
    "        x_rad_1d = nc.variables['x'][:]\n",
    "        y_rad_1d = nc.variables['y'][:]\n",
    "        x_rad,y_rad = np.meshgrid(x_rad_1d,y_rad_1d)\n",
    "        AOD_550nm = nc.variables['AOD'][:]\n",
    "    \n",
    "        ## GOES-R projection info and retrieving relevant constants\n",
    "        variable_req = nc.variables['goes_imager_projection']\n",
    "        lambda_0 = (variable_req.longitude_of_projection_origin)*(np.pi/180)\n",
    "        H = variable_req.perspective_point_height + variable_req.semi_major_axis\n",
    "        r_eq = variable_req.semi_major_axis\n",
    "        r_pol = variable_req.semi_minor_axis\n",
    "    \n",
    "        # close file when finished\n",
    "        nc.close()\n",
    "        nc = None\n",
    "    \n",
    "        ## Navigate from N/S elevstion sngle (y) and E/W scanning angle (x) to geodetic latitue and longitude\n",
    "        a_var = np.power((np.sin(x_rad)),2) + (np.power((np.cos(x_rad)),2)*(np.power((np.cos(y_rad)),2)+(((r_eq*r_eq)/(r_pol*r_pol))*np.power(np.sin(y_rad),2))))\n",
    "        b_var = (-2.0*H)*(np.cos(x_rad)*np.cos(y_rad))\n",
    "        c_var = (H**2)-(r_eq**2)\n",
    "\n",
    "        r_s = (-1.0*b_var - np.sqrt((b_var**2)-(4.0*a_var*c_var)))/(2.0*a_var) #Distance from the satellite to point P in the ground surface\n",
    "\n",
    "        s_x = r_s*np.cos(x_rad)*np.cos(y_rad)\n",
    "        s_y = -1 * r_s * np.sin(x_rad)\n",
    "        s_z = r_s*np.cos(x_rad)*np.sin(y_rad)\n",
    "    \n",
    "        ## Latitude and longitude projection for plotting data on traditional lat/lon maps    \n",
    "        lat = (np.arctan(((r_eq*r_eq)/(r_pol*r_pol))*((s_z/np.sqrt(((H-s_x)*(H-s_x))+(s_y*s_y))))))*(180.0/np.pi)\n",
    "        lon = (lambda_0 - np.arctan(s_y/(H-s_x)))*(180.0/np.pi)\n",
    "    \n",
    "        data_bounds = np.where(AOD_550nm.data!=65535)\n",
    "        bbox = [np.min(lon[data_bounds]),\n",
    "                np.min(lat[data_bounds]),\n",
    "                np.max(lon[data_bounds]),\n",
    "                np.max(lat[data_bounds])] \n",
    "            \n",
    "        n_add = 0 # for zooming in and out\n",
    "        m = Basemap(ax = ax,llcrnrlon=-126-n_add,llcrnrlat=31-n_add,urcrnrlon=-105+n_add,\\\n",
    "                urcrnrlat=48+n_add,resolution='i', projection='cyl')\n",
    "    \n",
    "        m.shadedrelief()\n",
    "        m.drawcoastlines(color='black',linewidth=1.5)\n",
    "        m.drawcountries(color='black',linewidth=1.5)\n",
    "        m.drawstates(color='black',linewidth=1.5)\n",
    "                    \n",
    "        vmin = 0\n",
    "        vmax = 2.0 #np.nanmax(AOD_550nm[:])\n",
    "        set_1 = m.pcolormesh(lon.data, lat.data, AOD_550nm, latlon=True,zorder=999, cmap = \"jet\",vmin=vmin, vmax=vmax)\n",
    "        title_name = date + ', ' + time\n",
    "        ax.set_title(title_name,fontsize=20) \n",
    "    \n",
    "        del AOD_550nm\n",
    "    \n",
    "        parallels = np.arange(15,60,5.); # make latitude lines ever 5 degrees from 30N-50N\n",
    "        meridians = np.arange(-125,-60,5.); \n",
    "        m.drawparallels(parallels,linewidth=0.7,labels=[1,0,0,0],fontsize=18,dashes=[6, 18]);\n",
    "        m.drawmeridians(meridians,linewidth=0.7,labels=[0,0,0,1],fontsize=18,dashes=[6, 18]);\n",
    "                       \n",
    "        divider = make_axes_locatable(ax)\n",
    "        cax = divider.append_axes(\"bottom\", size=\"4%\", pad=\"4%\")\n",
    "        ticks = np.linspace(vmin, vmax, 8)\n",
    "        cb = fig.colorbar(set_1, ax=ax,extend='both', cax=cax, orientation=\"horizontal\",ticks=ticks)\n",
    "        cb.ax.tick_params(labelsize=18)\n",
    "        \n",
    "        save_name = 'output_images/GOES_ABI_AOD_' + date + time + '.png'\n",
    "        plt.savefig(save_name, dpi=150, bbox_inches = 'tight')\n",
    "        #plt.show() \n",
    "        plt.close(fig='all')"
   ]
  },
  {
   "cell_type": "markdown",
   "metadata": {},
   "source": [
    "### Converting Output Images into GIF"
   ]
  },
  {
   "cell_type": "code",
   "execution_count": 5,
   "metadata": {},
   "outputs": [
    {
     "name": "stdout",
     "output_type": "stream",
     "text": [
      "gifsicle: warning: huge GIF, conserving memory (processing may take a while)\n",
      "gifsicle: warning: too many colors, using local colormaps\n",
      "  (You may want to try ‘--colors 256’.)\n"
     ]
    }
   ],
   "source": [
    "!convert -delay 30 ./output_images/GOES_ABI_AOD_*.png ./animation/GOES_ABI_AOD_Southwest_20200815_20200825.gif\n",
    "\n",
    "## Resize the GIF file\n",
    "!gifsicle ./animation/GOES_ABI_AOD_Southwest_20200815_20200825.gif --resize 1208x1027 > ./animation/GOES_ABI_AOD_Southwest_20200815_20200825_resize.gif"
   ]
  },
  {
   "cell_type": "markdown",
   "metadata": {},
   "source": [
    "### Displaying the GIF Images"
   ]
  },
  {
   "cell_type": "code",
   "execution_count": 6,
   "metadata": {},
   "outputs": [
    {
     "data": {
      "text/html": [
       "<img src='./animation/GOES_ABI_AOD_Southwest_20200815_20200825_resize.gif' />"
      ],
      "text/plain": [
       "<IPython.core.display.HTML object>"
      ]
     },
     "metadata": {},
     "output_type": "display_data"
    }
   ],
   "source": [
    "display(HTML(\"<img src='./animation/GOES_ABI_AOD_Southwest_20200815_20200825_resize.gif' />\"))"
   ]
  },
  {
   "cell_type": "code",
   "execution_count": null,
   "metadata": {},
   "outputs": [],
   "source": []
  }
 ],
 "metadata": {
  "kernelspec": {
   "display_name": "Python 3",
   "language": "python",
   "name": "python3"
  },
  "language_info": {
   "codemirror_mode": {
    "name": "ipython",
    "version": 3
   },
   "file_extension": ".py",
   "mimetype": "text/x-python",
   "name": "python",
   "nbconvert_exporter": "python",
   "pygments_lexer": "ipython3",
   "version": "3.7.6"
  }
 },
 "nbformat": 4,
 "nbformat_minor": 4
}
